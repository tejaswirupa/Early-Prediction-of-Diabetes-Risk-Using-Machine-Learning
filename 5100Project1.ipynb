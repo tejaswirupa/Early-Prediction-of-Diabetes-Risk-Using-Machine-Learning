{
  "cells": [
    {
      "cell_type": "markdown",
      "metadata": {
        "id": "view-in-github",
        "colab_type": "text"
      },
      "source": [
        "<a href=\"https://colab.research.google.com/github/tejaswirupa/Predicting-diabetes-by-analyzing-health-factors-and-socioeconomic-indicators./blob/main/5100Project1.ipynb\" target=\"_parent\"><img src=\"https://colab.research.google.com/assets/colab-badge.svg\" alt=\"Open In Colab\"/></a>"
      ]
    },
    {
      "cell_type": "markdown",
      "metadata": {
        "id": "RrDHUrWCeawo"
      },
      "source": [
        "##Project Introduction"
      ]
    },
    {
      "cell_type": "markdown",
      "metadata": {
        "id": "_tejhd8d84AT"
      },
      "source": [
        "# Project Introduction: Diabetes Health Indicators Dataset Notebook\n",
        "\n",
        "#Purpose:\n",
        "The primary objective of this code notebook is to preprocess the Behavioral Risk Factor Surveillance System (BRFSS) data, specifically focusing on health indicators related to diabetes. With an initial dataset comprising 330 features, this notebook aims to streamline the data into a format suitable for machine learning algorithms. The selection of features is informed by extensive research on factors influencing diabetes and other chronic health conditions, ensuring a targeted and relevant analysis.\n",
        "\n",
        "##Dataset Details:\n",
        "The dataset under consideration is derived from 253,680 survey responses obtained from the cleaned BRFSS 2015. This project adopts a binary classification approach, emphasizing the presence or absence of diabetes as the main outcome variable.\n",
        "\n",
        "##Important Risk Factors:\n",
        "Research in the field has identified several pivotal risk factors for diabetes and chronic illnesses, including high blood pressure, cholesterol, smoking, obesity, age, sex, race, diet, exercise, alcohol consumption, BMI, household income, marital status, sleep, time since last checkup, education, and health care coverage.\n",
        "\n",
        "##Subset of Selected Features:\n",
        "In alignment with the recognized risk factors, a careful curation of features from the BRFSS 2015 dataset has been undertaken. The selection process involves cross-referencing the variable names in the dataset with the BRFSS 2015 Codebook to ensure accuracy and relevance. Additionally, inspiration is drawn from the work of Zidian Xie et al, who employed a similar approach for building risk prediction models for Type 2 Diabetes using the 2014 BRFSS dataset. This project thus contributes to the ongoing efforts in leveraging machine learning techniques for health risk assessment.\n",
        "\n",
        "BRFSS 2015 Codebook: https://www.cdc.gov/brfss/annual_data/2015/pdf/codebook15_llcp.pdf\n",
        "\n",
        "Relevant Research Paper using BRFSS for Diabetes ML: https://www.cdc.gov/pcd/issues/2019/19_0109.htm\n",
        "\n",
        "The selected features from the BRFSS 2015 dataset are:\n",
        "\n",
        "#The dependent variable, DIABETES12:  \n",
        " Encapsulates the diabetes status of respondents in three distinct categories. A value of 0 denotes the absence of diabetes or its occurrence solely during pregnancy. A value of 1 signifies a diagnosis of pre-diabetes or borderline diabetes. On the other hand, a value of 2 indicates a confirmed diagnosis of diabetes. This variable serves as a crucial indicator for understanding the diverse diabetes statuses present in the dataset, encompassing those without the condition, individuals with pre-diabetic indications, and those diagnosed with diabetes.\n",
        "\n",
        "\n",
        "\n",
        "#Several independent variables are considered:\n",
        "##High Blood Pressure (_RFHYPE5):    \n",
        "\n",
        "Adults who have been informed by a doctor, nurse, or health professional that they have high blood pressure.\n",
        "\n",
        "##High Cholesterol (TOLDHI2, _CHOLCHK):\n",
        "\n",
        "Have you ever been informed by a doctor, nurse, or health professional that your blood cholesterol is high? (TOLDHI2)\n",
        "Cholesterol check within the past five years. (_CHOLCHK)\n",
        "##BMI (Body Mass Index) (_BMI5):\n",
        "Body Mass Index (BMI) is considered as an indicator of weight status.\n",
        "\n",
        "##Smoking (SMOKE100):\n",
        "Whether the respondent has smoked at least 100 cigarettes in their entire life.\n",
        "\n",
        "##Other Chronic Health Conditions:\n",
        "\n",
        "Ever told you had a stroke (CVDSTRK3).\n",
        "Respondents ever reporting having coronary heart disease (CHD) or myocardial infarction (MI) (_MICHD).\n",
        "Physical Activity (_TOTINDA):\n",
        "Adults who reported engaging in physical activity or exercise during the past 30 days other than their regular job.\n",
        "\n",
        "##Diet:\n",
        "\n",
        "Consume fruit 1 or more times per day (_FRTLT1).\n",
        "\n",
        "Consume vegetables 1 or more times per day (_VEGLT1).\n",
        "\n",
        "Alcohol Consumption (_RFDRHV5):\n",
        "Identification of heavy drinkers based on defined criteria.\n",
        "\n",
        "##Health Care:\n",
        "\n",
        "Do you have any kind of health care coverage, including health insurance, prepaid plans, or government plans? (HLTHPLN1)\n",
        "Was there a time in the past 12 months when you needed to see a doctor but could not because of cost? (MEDCOST)\n",
        "Health General and Mental Health:\n",
        "\n",
        "##General health assessment (GENHLTH).\n",
        "Mental health status, considering stress, depression, and emotional problems in the past 30 days (MENTHLTH).\n",
        "\n",
        "Physical health status, including illness and injury in the past 30 days (PHYSHLTH).\n",
        "\n",
        "Serious difficulty walking or climbing stairs (DIFFWALK).\n",
        "Demographics:\n",
        "\n",
        "##Sex of the respondent (SEX).\n",
        "Fourteen-level age category (_AGEG5YR).\n",
        "\n",
        "Highest grade or year of school completed (EDUCA).\n",
        "\n",
        "Annual household income from all sources (INCOME2), with a code for refusal if applicable.\n",
        "\n",
        "\n",
        "\n"
      ]
    },
    {
      "cell_type": "markdown",
      "metadata": {
        "id": "uCfKa15hbwzn"
      },
      "source": [
        "##Imports"
      ]
    },
    {
      "cell_type": "markdown",
      "metadata": {
        "id": "ai_7Cnx5cdfm"
      },
      "source": [
        "Importing the necessary libraries."
      ]
    },
    {
      "cell_type": "code",
      "execution_count": null,
      "metadata": {
        "colab": {
          "background_save": true
        },
        "id": "GOP0BMhoHdIH"
      },
      "outputs": [],
      "source": [
        "# Import pandas, numpy, and matplotlib\n",
        "import pandas as pd\n",
        "import numpy as np\n",
        "import matplotlib.pyplot as plt\n",
        "\n",
        "# seaborn is a data visualization library built on matplotlib\n",
        "import seaborn as sns\n",
        "# set the plotting style\n",
        "sns.set_style(\"whitegrid\")\n",
        "\n",
        "# plot tree model\n",
        "import graphviz\n",
        "\n",
        "# Model preprocessing\n",
        "from sklearn import preprocessing\n",
        "from sklearn.preprocessing import PolynomialFeatures, StandardScaler\n",
        "\n",
        "# Train-test splits and cross validation\n",
        "from sklearn.model_selection import train_test_split, RandomizedSearchCV, cross_val_score, GridSearchCV, KFold\n",
        "from patsy import dmatrices\n",
        "\n",
        "# Models\n",
        "from sklearn.linear_model import LogisticRegression\n",
        "from sklearn.ensemble import RandomForestClassifier\n",
        "from sklearn.ensemble import RandomForestRegressor\n",
        "from sklearn.linear_model import LinearRegression\n",
        "import statsmodels.api as sm\n",
        "from sklearn import tree\n",
        "import xgboost as xgb\n",
        "\n",
        "# Plot missing values\n",
        "import missingno as msno\n",
        "\n",
        "# Imputation\n",
        "from sklearn.experimental import enable_iterative_imputer\n",
        "from sklearn.impute import SimpleImputer, IterativeImputer, KNNImputer\n",
        "\n",
        "# Regular expressions\n",
        "import re\n",
        "\n",
        "# Model metrics and analysis\n",
        "from sklearn.metrics import r2_score, mean_squared_error, mean_absolute_error\n",
        "from sklearn import metrics\n",
        "from sklearn.metrics import confusion_matrix, classification_report, accuracy_score\n",
        "from scipy.stats import uniform, randint\n",
        "\n",
        "# Imputation\n",
        "from sklearn.experimental import enable_iterative_imputer\n",
        "from sklearn.impute import SimpleImputer, IterativeImputer, KNNImputer\n",
        "\n",
        "# Logistic function\n",
        "from scipy.special import expit"
      ]
    },
    {
      "cell_type": "code",
      "execution_count": null,
      "metadata": {
        "colab": {
          "background_save": true
        },
        "id": "ih5odJEXDYal"
      },
      "outputs": [],
      "source": []
    },
    {
      "cell_type": "markdown",
      "metadata": {
        "id": "rO5cDuiRvXY4"
      },
      "source": []
    },
    {
      "cell_type": "markdown",
      "metadata": {
        "id": "HxXzFP4je1Tj"
      },
      "source": [
        "##The Data"
      ]
    },
    {
      "cell_type": "markdown",
      "metadata": {
        "id": "zFInYeUVhzYX"
      },
      "source": [
        "This project utilizes the data set `2015.csv`.\n",
        "\n",
        "The dataset comprises information concerning the health status of each individual, indicating potential future occurrences of diabetes."
      ]
    },
    {
      "cell_type": "markdown",
      "metadata": {
        "id": "hRCG9ZdCj1e6"
      },
      "source": [
        "`Diabetes_012`\n",
        "Occurrence of Diabetes\n",
        "\n",
        "`HighBP`\n",
        "The blood pressure is above normal levels\n",
        "\n",
        "`HighChol`\n",
        "The cholestrol is above normal levels\n",
        "\n",
        "`CholCheck`\n",
        "The Cholestrol levels being checked once every 5 years\n",
        "\n",
        "`BMI`\n",
        "The Body Mass Index\n",
        "\n",
        "`Smoker`\n",
        "Have smoked atleast 100 cigarettes in their entire life\n",
        "\n",
        "`Stroke`\n",
        "Ever had a stroke\n",
        "\n",
        "`HeartDiseaseorAttack`\n",
        "coronary heart disease(CHD) or myocardial infarction (MI)\n",
        "\n",
        "`PhysActivity`\n",
        "Physical activity in the past 30 days - not including job\n",
        "\n",
        "`Fruits`\n",
        "Consumes fruits once or more times per day\n",
        "\n",
        "`Veggies`\n",
        "Consumes veggies once or more times per day\n",
        "\n",
        "`HvyAlcoholConsump`\n",
        "Adult men >=14 drinks per week\n",
        "\n",
        "Adult women >=7 drinks per week\n",
        "\n",
        "`AnyHealthcare`\n",
        "Have any kind of health care coverage, including health insurance, prepaid plans such as HMO, etc.\n",
        "\n",
        "`NoDocbcCost`\n",
        "Was there a time in the past 12 months when needed to see a doctor but could not because of cost\n",
        "\n",
        "`GenHlth`\n",
        "Rate general health\n",
        "\n",
        "1 = excellent 2 = very good 3 = good 4 = fair 5 = poor\n",
        "\n",
        "`MentHlth`\n",
        "days of poor mental health scale 1-30 days\n",
        "\n",
        "`PhysHlth`\n",
        "physical illness or injury days in past 30 days\n",
        "\n",
        "`DiffWalk`\n",
        "Serious difficulty while walking or climbing stairs?\n",
        "\n",
        "`Sex`\n",
        "Gender\n",
        "\n",
        "`Age`\n",
        "1 = (18-24), 9 = (60-64), 13 = (80 or older)\n",
        "\n",
        "`Education`\n",
        "Education level on scale 1-6\n",
        "\n",
        "1 = Never attended school or only kindergarten, 2 = elementary etc.\n",
        "\n",
        "`Income`\n",
        "Income on scale 1-8\n",
        "\n",
        " 1 = less than $10000\n",
        "\n",
        " 8 = $75000 or more"
      ]
    },
    {
      "cell_type": "markdown",
      "metadata": {
        "id": "LzslydQ9v2Gt"
      },
      "source": [
        "##Questions for the problem"
      ]
    },
    {
      "cell_type": "markdown",
      "metadata": {
        "id": "uVDsnbnbwHyX"
      },
      "source": [
        "The overall problem is to predict the occurence of diabetes based on health attributes of the person. To answer this general problem, we are asking specific questions about the data."
      ]
    },
    {
      "cell_type": "markdown",
      "metadata": {
        "id": "PHjrBkrSzGFD"
      },
      "source": [
        "##### $\\rightarrow$ Questions about the data that will help you solve the problem."
      ]
    },
    {
      "cell_type": "markdown",
      "metadata": {
        "id": "xnDNYgThzNBj"
      },
      "source": [
        "*   What are the number of predicting variables and how many observations do we have?\n",
        "*   Can these variables help us answer the question of occurence of diabetes?\n",
        "*   What variables shouldn't be considered for this to be a meaningful study?\n",
        "*   Are there any duplicate rows or missing values?\n",
        "*   What shall the values of the variable we are trying to predict be?\n",
        "*   What prediction variables are highly correlated with the output variable?\n",
        "*   Do we have any outliers in this data?\n",
        "*   What models shall we use to predict the output?\n",
        "*   Are there any additional external factors  that may influence the chances of diabetes?"
      ]
    },
    {
      "cell_type": "markdown",
      "metadata": {
        "id": "eItjKzntvvKO"
      },
      "source": [
        "##Load the data"
      ]
    },
    {
      "cell_type": "markdown",
      "metadata": {
        "id": "8U6AnkBFe4jy"
      },
      "source": [
        "##### $\\rightarrow$ Loading the Diabetes 2015 dataset.\n",
        "https://www.kaggle.com/code/alexteboul/diabetes-health-indicators-dataset-notebook/input?select=2015.csv\n",
        "\n",
        "BRFSS 2015 Codebook: https://www.cdc.gov/brfss/annual_data/2015/pdf/codebook15_llcp.pdf\n",
        "\n"
      ]
    },
    {
      "cell_type": "code",
      "execution_count": null,
      "metadata": {
        "colab": {
          "background_save": true
        },
        "id": "1ZsQGLdzZiEY"
      },
      "outputs": [],
      "source": [
        "df = pd.read_csv('https://raw.githubusercontent.com/umuhoza90/DS-Project/main/diabetes_012_health_indicators_BRFSS2015.csv')"
      ]
    },
    {
      "cell_type": "markdown",
      "metadata": {
        "id": "QuP8dh8atQgI"
      },
      "source": [
        "# Exploring the contents of the data sets\n"
      ]
    },
    {
      "cell_type": "markdown",
      "metadata": {
        "id": "PYFX6cU72Y4W"
      },
      "source": [
        "Exploring the dataset. We can see the names of the columns and how do the values look like."
      ]
    },
    {
      "cell_type": "code",
      "execution_count": null,
      "metadata": {
        "colab": {
          "background_save": true
        },
        "id": "NJaAed8b_IR5"
      },
      "outputs": [],
      "source": [
        "df.head()"
      ]
    },
    {
      "cell_type": "markdown",
      "metadata": {
        "id": "VJ_yroJQ5kXf"
      },
      "source": [
        "To get the summary of the DataFrame. Also gives the data types of each column and the number of non-null values."
      ]
    },
    {
      "cell_type": "code",
      "execution_count": null,
      "metadata": {
        "colab": {
          "background_save": true
        },
        "id": "Y-VQPpHkizhi"
      },
      "outputs": [],
      "source": [
        "df.info()"
      ]
    },
    {
      "cell_type": "markdown",
      "metadata": {
        "id": "z8rKeA-75qU6"
      },
      "source": [
        "Number of rows and columns in our dataset."
      ]
    },
    {
      "cell_type": "code",
      "execution_count": null,
      "metadata": {
        "colab": {
          "background_save": true
        },
        "id": "VryWEnKL_A_s"
      },
      "outputs": [],
      "source": [
        "df.shape"
      ]
    },
    {
      "cell_type": "markdown",
      "metadata": {
        "id": "vtSO5WSd52cy"
      },
      "source": [
        "## Can we answer the questions using this data?"
      ]
    },
    {
      "cell_type": "markdown",
      "metadata": {
        "id": "QLOX7GNa6Dqr"
      },
      "source": [
        "#####Performing exploratory data analysis to determine whether the data are sufficient to answer our question."
      ]
    },
    {
      "cell_type": "markdown",
      "metadata": {
        "id": "5tHaybYo6Yhj"
      },
      "source": [
        "Checking what variables can we consider to plot a pair plot."
      ]
    },
    {
      "cell_type": "code",
      "execution_count": null,
      "metadata": {
        "colab": {
          "background_save": true
        },
        "id": "uZM7KYQy6MZ_"
      },
      "outputs": [],
      "source": [
        "df.describe()"
      ]
    },
    {
      "cell_type": "markdown",
      "metadata": {
        "id": "GxbpE72F7HVp"
      },
      "source": [
        "To explore the relationships between the numerical variables, we are plotting a pair plot."
      ]
    },
    {
      "cell_type": "code",
      "execution_count": null,
      "metadata": {
        "colab": {
          "background_save": true
        },
        "id": "JHv3QGSzLU5P"
      },
      "outputs": [],
      "source": [
        "sns.pairplot(data = df.iloc[:, np.r_[np.arange(5), 21]], hue='Diabetes_012');"
      ]
    },
    {
      "cell_type": "markdown",
      "metadata": {
        "id": "Qv3fEA7wBXHm"
      },
      "source": [
        "# Data preparation"
      ]
    },
    {
      "cell_type": "markdown",
      "metadata": {
        "id": "xMV4Encd7yGh"
      },
      "source": [
        "## Quality control"
      ]
    },
    {
      "cell_type": "markdown",
      "metadata": {
        "id": "IEcA0-LR754_"
      },
      "source": [
        "There are no out-of-range values, the values are divided by various properties."
      ]
    },
    {
      "cell_type": "markdown",
      "metadata": {
        "id": "TdGHwyTP8IKi"
      },
      "source": [
        "## Checking missing values"
      ]
    },
    {
      "cell_type": "code",
      "execution_count": null,
      "metadata": {
        "colab": {
          "background_save": true
        },
        "id": "0VbxmoZhhfs5"
      },
      "outputs": [],
      "source": [
        "df.isnull().sum()"
      ]
    },
    {
      "cell_type": "markdown",
      "metadata": {
        "id": "2XOpEcx88TOV"
      },
      "source": [
        "## Checking duplicate rows"
      ]
    },
    {
      "cell_type": "code",
      "execution_count": null,
      "metadata": {
        "colab": {
          "background_save": true
        },
        "id": "Sn9lRxouyLL3"
      },
      "outputs": [],
      "source": [
        "df.duplicated().sum()"
      ]
    },
    {
      "cell_type": "markdown",
      "metadata": {
        "id": "wte1jAe78hOM"
      },
      "source": [
        "Dropping the duplicate rows"
      ]
    },
    {
      "cell_type": "code",
      "execution_count": null,
      "metadata": {
        "colab": {
          "background_save": true
        },
        "id": "GHzOPZcC3Hk2"
      },
      "outputs": [],
      "source": [
        "df.drop_duplicates(inplace = True)\n",
        "df.duplicated().sum()"
      ]
    },
    {
      "cell_type": "markdown",
      "metadata": {
        "id": "TwDgYWDE8r2F"
      },
      "source": [
        "## Renaming the columns from CamelCase to snake_case"
      ]
    },
    {
      "cell_type": "markdown",
      "metadata": {
        "id": "wJXVDoZC82cN"
      },
      "source": [
        "Looking at the column names."
      ]
    },
    {
      "cell_type": "code",
      "execution_count": null,
      "metadata": {
        "colab": {
          "background_save": true
        },
        "id": "Kky2P9FW44tO"
      },
      "outputs": [],
      "source": [
        "df.columns"
      ]
    },
    {
      "cell_type": "markdown",
      "metadata": {
        "id": "X4EptquZ88tf"
      },
      "source": [
        "Using this method to convert the column names from CamelCase to snake_case."
      ]
    },
    {
      "cell_type": "code",
      "execution_count": null,
      "metadata": {
        "colab": {
          "background_save": true
        },
        "id": "6pcrjQOhCNpQ"
      },
      "outputs": [],
      "source": [
        "def camel_to_snake(name):\n",
        "    name = re.sub('(.)([A-Z][a-z]+)', r'\\1_\\2', name)\n",
        "    name = re.sub('([a-z0-9])([A-Z])', r'\\1_\\2', name).lower()\n",
        "    return re.sub('(.)([0-9][a-z]+)', r'\\1_\\2', name)"
      ]
    },
    {
      "cell_type": "code",
      "execution_count": null,
      "metadata": {
        "colab": {
          "background_save": true
        },
        "id": "nl7WGBQjCgAf"
      },
      "outputs": [],
      "source": [
        "df.columns = [camel_to_snake(name) for name in df.columns]"
      ]
    },
    {
      "cell_type": "markdown",
      "metadata": {
        "id": "t7QYQeOj9GEJ"
      },
      "source": [
        "Checking the converted column names."
      ]
    },
    {
      "cell_type": "code",
      "execution_count": null,
      "metadata": {
        "colab": {
          "background_save": true
        },
        "id": "DAXAxMMBChZn"
      },
      "outputs": [],
      "source": [
        "df.columns"
      ]
    },
    {
      "cell_type": "markdown",
      "metadata": {
        "id": "V7DCEFBO-g_H"
      },
      "source": [
        "Selecting some relatable variables."
      ]
    },
    {
      "cell_type": "code",
      "execution_count": null,
      "metadata": {
        "colab": {
          "background_save": true
        },
        "id": "r2oKMYcT3jtI"
      },
      "outputs": [],
      "source": [
        "df = df[['diabetes_012', 'high_bp', 'high_chol', 'bmi', 'smoker',\n",
        "       'phys_activity', 'fruits', 'veggies',\n",
        "       'hvy_alcohol_consump', 'no_docbc_cost', 'gen_hlth','any_healthcare',\n",
        "       'ment_hlth', 'phys_hlth', 'diff_walk', 'sex', 'age', 'education',\n",
        "       'income']]"
      ]
    },
    {
      "cell_type": "markdown",
      "metadata": {
        "id": "AGvnR71M-9fo"
      },
      "source": [
        "Rename Diabetes_012 column to Diabetes"
      ]
    },
    {
      "cell_type": "code",
      "execution_count": null,
      "metadata": {
        "colab": {
          "background_save": true
        },
        "id": "6klcLSjNf3xW"
      },
      "outputs": [],
      "source": [
        "df['diabetes'] = df['diabetes_012']\n",
        "df.drop(columns = 'diabetes_012', inplace=True)"
      ]
    },
    {
      "cell_type": "markdown",
      "metadata": {
        "id": "UKm9hHmg_Lo5"
      },
      "source": [
        "Frequency count for each column value"
      ]
    },
    {
      "cell_type": "code",
      "execution_count": null,
      "metadata": {
        "colab": {
          "background_save": true
        },
        "id": "k5vS5_Q16q7M"
      },
      "outputs": [],
      "source": [
        "for column in df.columns:\n",
        "    print(f\"{column}\\n{df[column].value_counts()}\\n{'-'*90}\")"
      ]
    },
    {
      "cell_type": "markdown",
      "metadata": {
        "id": "jVFVol2_2zjN"
      },
      "source": [
        "# Exploratory Data Analysis"
      ]
    },
    {
      "cell_type": "code",
      "execution_count": null,
      "metadata": {
        "colab": {
          "background_save": true
        },
        "id": "aMOErOD6OULy"
      },
      "outputs": [],
      "source": [
        "corr_matrix = df.corr()\n",
        "\n",
        "plt.figure(figsize=(20,15))\n",
        "\n",
        "sns.heatmap(corr_matrix, vmax=1, vmin=-1, square=True, annot=True, cmap='viridis')\n",
        "\n",
        "plt.tick_params(labelsize=12);"
      ]
    },
    {
      "cell_type": "code",
      "execution_count": null,
      "metadata": {
        "colab": {
          "background_save": true
        },
        "id": "CyAihtGW1uXq"
      },
      "outputs": [],
      "source": [
        "# Looking at correlation to diabetes only\n",
        "plt.figure(figsize=(10, 8))\n",
        "df.corr(\"pearson\")[\"diabetes\"]\n",
        "fig2 = plt.bar(\n",
        "    df.corr(\"pearson\")[\"diabetes\"].index, df.corr(\"pearson\")[\"diabetes\"]\n",
        ")\n",
        "plt.xticks(rotation=90)"
      ]
    },
    {
      "cell_type": "code",
      "execution_count": null,
      "metadata": {
        "colab": {
          "background_save": true
        },
        "id": "jhVJ1znp3dwO"
      },
      "outputs": [],
      "source": []
    },
    {
      "cell_type": "markdown",
      "metadata": {
        "id": "KgRDt8wx9lmt"
      },
      "source": [
        "2.2 Enhance and preprocess the values to align more effectively with machine learning algorithms. To accomplish this task, we consulted the codebook, which provides detailed information about each column, feature, or question. You can find the codebook here: https://www.cdc.gov/brfss/annual_data/2015/pdf/codebook15_llcp.pdf"
      ]
    },
    {
      "cell_type": "code",
      "execution_count": null,
      "metadata": {
        "colab": {
          "background_save": true
        },
        "id": "YgYHY5FQ4tPK"
      },
      "outputs": [],
      "source": [
        "plt.figure(figsize=(10, 6))\n",
        "\n",
        "# Count occurrences of each category in the 'diabetes' column\n",
        "diabetes_counts = df['diabetes'].value_counts()\n",
        "\n",
        "# Plotting the pie chart\n",
        "plt.pie(diabetes_counts, labels=diabetes_counts.index, autopct='%1.2f%%', colors=['lightcoral', 'cornflowerblue'], startangle=90, wedgeprops=dict(width=0.4, edgecolor='w'))\n",
        "\n",
        "# Adding a title\n",
        "plt.title('Percentage of Diabetes Cases')\n",
        "\n",
        "# Display the pie chart\n",
        "plt.show()"
      ]
    },
    {
      "cell_type": "markdown",
      "metadata": {
        "id": "-m39Pm2b95m-"
      },
      "source": [
        "*  0 = No diabetes or only during pregnancy (82.71%)\n",
        "* 1 = Pre-diabetes or borderline diabetes (2.01%)\n",
        "* 2 = Yes, diabetes (15.27%)"
      ]
    },
    {
      "cell_type": "code",
      "execution_count": null,
      "metadata": {
        "colab": {
          "background_save": true
        },
        "id": "OfvBUT5S-d6H"
      },
      "outputs": [],
      "source": [
        "\n",
        "plt.figure(figsize=(12, 8))\n",
        "\n",
        "# Order the x-axis by age group\n",
        "age_order = [1, 2, 3, 4, 5, 6, 7, 8, 9, 10, 11, 12, 13]\n",
        "\n",
        "# Plotting the countplot\n",
        "sns.countplot(x='age', data=df, hue='diabetes', order=age_order, palette='bright')\n",
        "\n",
        "# Adding a title and labels\n",
        "plt.title('Age Group Distribution by Diabetes Status')\n",
        "plt.xlabel('Age Group')\n",
        "plt.ylabel('Count')\n",
        "\n",
        "# Adding legend and adjusting its position\n",
        "plt.legend(title='Diabetes', loc='upper right')\n",
        "\n",
        "# Display the countplot\n",
        "plt.show()\n"
      ]
    },
    {
      "cell_type": "markdown",
      "metadata": {
        "id": "ZhkmdhcZ5uFz"
      },
      "source": [
        "The countplot illustrates the relationship between age and diabetes, revealing that elderly individuals face an elevated risk of developing diabetes."
      ]
    },
    {
      "cell_type": "code",
      "execution_count": null,
      "metadata": {
        "colab": {
          "background_save": true
        },
        "id": "XK5sWhUUDtu4"
      },
      "outputs": [],
      "source": [
        "#diabetics individuals\n",
        "Diabetics = df[df['diabetes'] == 2].copy()\n"
      ]
    },
    {
      "cell_type": "code",
      "execution_count": null,
      "metadata": {
        "colab": {
          "background_save": true
        },
        "id": "QTsRWQ6kFVKf"
      },
      "outputs": [],
      "source": [
        "plt.figure(figsize=(10, 6))\n",
        "\n",
        "# Count occurrences of each gender in the diabetic patients\n",
        "gender_counts = Diabetics['sex'].value_counts()\n",
        "\n",
        "# Plotting the pie chart with explicit labels\n",
        "plt.pie(gender_counts, labels=['Male', 'Female'], autopct='%1.2f%%', colors=['skyblue', 'orange'], startangle=90, wedgeprops=dict(width=0.4, edgecolor='w'))\n",
        "\n",
        "# Adding a title\n",
        "plt.title('Gender Distribution among Diabetic Patients')\n",
        "\n",
        "# Display the pie chart\n",
        "plt.show()"
      ]
    },
    {
      "cell_type": "markdown",
      "metadata": {
        "id": "9G08hGRDG1rq"
      },
      "source": [
        "The pie chart illustrates that there isn't a pronounced correlation between gender and diabetes"
      ]
    },
    {
      "cell_type": "code",
      "execution_count": null,
      "metadata": {
        "colab": {
          "background_save": true
        },
        "id": "iLAgn4HdG8Fu"
      },
      "outputs": [],
      "source": [
        "fig, ax = plt.subplots(1, 2, figsize=(15, 5))\n",
        "\n",
        "# Plot HighChol vs. Diabetes in the entire dataset\n",
        "sns.countplot(x='high_chol', data=df, hue='diabetes', ax=ax[0]).set_title('High Cholesterol vs Diabetes')\n",
        "\n",
        "# Plot HighChol in Diabetic patients\n",
        "sns.countplot(x='high_chol', data=Diabetics, ax=ax[1]).set_title('High Cholesterol in Diabetic Patients')\n",
        "\n",
        "# Add common labels\n",
        "for axes in ax:\n",
        "    axes.set_xlabel('High Cholesterol')\n",
        "    axes.set_ylabel('Count')\n",
        "\n",
        "plt.show()\n"
      ]
    },
    {
      "cell_type": "markdown",
      "metadata": {
        "id": "5uiFQB_SJNrn"
      },
      "source": [
        "The countplots reveal a correlation between high cholesterol and diabetes. Among individuals with diabetes, 20,000+ have high cholesterol, while 10,000+ do not.\n",
        "\n",
        "\n",
        "\n",
        "\n"
      ]
    },
    {
      "cell_type": "code",
      "execution_count": null,
      "metadata": {
        "colab": {
          "background_save": true
        },
        "id": "bD1FGBQHJifx"
      },
      "outputs": [],
      "source": [
        "fig, ax = plt.subplots(1, 2, figsize=(15, 5))\n",
        "\n",
        "# Plot DiffWalk vs. Diabetes in the entire dataset\n",
        "sns.countplot(x='diff_walk', data=df, hue='diabetes', ax=ax[0]).set_title('Difficulty in Walking or Climbing vs Diabetes')\n",
        "\n",
        "# Plot DiffWalk in Diabetic patients\n",
        "sns.countplot(x='diff_walk', data=Diabetics, ax=ax[1]).set_title('Difficulty in Walking or Climbing in Diabetic Patients')\n",
        "\n",
        "# Add common labels\n",
        "for axes in ax:\n",
        "    axes.set_xlabel('Difficulty in Walking or Climbing')\n",
        "    axes.set_ylabel('Count')\n",
        "\n",
        "plt.show()\n"
      ]
    },
    {
      "cell_type": "markdown",
      "metadata": {
        "id": "GgZV3e2XKnNJ"
      },
      "source": [
        "Within the subset of individuals diagnosed with diabetes, around 13,114 individuals report experiencing difficulty in walking or climbing. Conversely,around 21,983 individuals within this diabetic group do not encounter challenges related to walking or climbing."
      ]
    },
    {
      "cell_type": "code",
      "execution_count": null,
      "metadata": {
        "colab": {
          "background_save": true
        },
        "id": "DH79SzgpMttY"
      },
      "outputs": [],
      "source": [
        "\n",
        "fig, ax = plt.subplots(1, 2, figsize=(15, 5))\n",
        "\n",
        "# Plot HighBP vs. Diabetes in the entire dataset\n",
        "sns.countplot(x='high_bp', data=df, hue='diabetes', ax=ax[0]).set_title('High Blood Pressure vs Diabetes')\n",
        "\n",
        "# Plot HighBP in Diabetic patients\n",
        "sns.countplot(x='high_bp', data=Diabetics, ax=ax[1]).set_title('High Blood Pressure in Diabetic Patients')\n",
        "\n",
        "# Add common labels\n",
        "for axes in ax:\n",
        "    axes.set_xlabel('High Blood Pressure')\n",
        "    axes.set_ylabel('Count')\n",
        "\n",
        "plt.show()"
      ]
    },
    {
      "cell_type": "markdown",
      "metadata": {
        "id": "ShgkPINDLDA2"
      },
      "source": [
        "The countplot demonstrates a correlation between high blood pressure and diabetes. Among individuals with diabetes, over 26]5,000 have high blood pressure, while around  8,000 do not exhibit high blood pressure.\""
      ]
    },
    {
      "cell_type": "code",
      "execution_count": null,
      "metadata": {
        "colab": {
          "background_save": true
        },
        "id": "FcLruaMvNrqJ"
      },
      "outputs": [],
      "source": [
        "fig, ax = plt.subplots(1, 2, figsize=(15, 5))\n",
        "\n",
        "# Plot GenHlth vs. Diabetes in the entire dataset\n",
        "sns.countplot(x='gen_hlth', data=df, hue='diabetes', ax=ax[0]).set_title('General Health vs Diabetes')\n",
        "\n",
        "# Plot GenHlth in Diabetic patients\n",
        "sns.countplot(x='gen_hlth', data=Diabetics, ax=ax[1]).set_title('General Health in Diabetic Patients')\n",
        "\n",
        "# Add common labels\n",
        "for axes in ax:\n",
        "    axes.set_xlabel('General Health')\n",
        "    axes.set_ylabel('Count')\n",
        "\n",
        "# Adding custom x-axis labels\n",
        "plt.xticks(ticks=[0, 1, 2, 3, 4], labels=['Excellent', 'Very Good', 'Good', 'Fair', 'Poor'])\n"
      ]
    },
    {
      "cell_type": "markdown",
      "metadata": {
        "id": "UiCxhr-4O9hB"
      },
      "source": [
        "The countplots offer a clear insight into the relationship between General Health and diabetes. Notably, individuals categorized with 'good,' 'fair,' and 'poor' health types exhibit a heightened risk of developing diabetes. The distribution of counts in these health categories is as follows:\n",
        "\n",
        "* Good Health: about 13,000individuals\n",
        "* Fair Health: about 9,000 individuals\n",
        "* Very Good Health: abut 6,000 individuals\n",
        "* Poor Health: about 4,000 individuals\n",
        "* Excellent Health: around 1,000 individuals\n",
        "\n",
        "This suggests a discernible association between lower perceived general health and an increased likelihood of diabetes."
      ]
    },
    {
      "cell_type": "code",
      "execution_count": null,
      "metadata": {
        "colab": {
          "background_save": true
        },
        "id": "_67CrEdyPv3G"
      },
      "outputs": [],
      "source": [
        "#Diabetes and BMI\n",
        "\n",
        "plt.figure(figsize=(10, 6))\n",
        "\n",
        "# Create a Kernel Density Estimate (KDE) plot for BMI and Diabetes\n",
        "sns.kdeplot(data=df, x=\"bmi\", hue=\"diabetes\", fill=True, common_norm=False, palette='viridis')\n",
        "\n",
        "# Adding a title and labels\n",
        "plt.title('BMI Distribution by Diabetes Status')\n",
        "plt.xlabel('BMI')\n",
        "plt.ylabel('Density')\n",
        "\n",
        "# Display the KDE plot\n",
        "plt.show()"
      ]
    },
    {
      "cell_type": "markdown",
      "metadata": {
        "id": "BMjL1SU4R92F"
      },
      "source": [
        "\n",
        "The BMI distribution is more concentrated among individuals with diabetes compared to those without diabetes. The graph shows that the BMI in  Non-diabetic individuals exhibit a normal BMI within the range of 25-35, while diabetic patients tend to have a BMI that extends beyond this range.\n"
      ]
    },
    {
      "cell_type": "code",
      "execution_count": null,
      "metadata": {
        "colab": {
          "background_save": true
        },
        "id": "Kv-aMYI818rN"
      },
      "outputs": [],
      "source": []
    },
    {
      "cell_type": "code",
      "execution_count": null,
      "metadata": {
        "colab": {
          "background_save": true
        },
        "id": "4k9uXd_tGdho"
      },
      "outputs": [],
      "source": [
        "df.drop(columns=['diabetes']).agg(['min', 'max']).T"
      ]
    },
    {
      "cell_type": "markdown",
      "metadata": {
        "id": "-yaz2oTbMXam"
      },
      "source": [
        "Produce a train/test split for model comparison\n",
        "\n",
        "Train test split"
      ]
    },
    {
      "cell_type": "code",
      "execution_count": null,
      "metadata": {
        "colab": {
          "background_save": true
        },
        "id": "X1ueVMQ-MU1N"
      },
      "outputs": [],
      "source": [
        "X = df.drop(columns = ['phys_activity', 'fruits', 'veggies', 'hvy_alcohol_consump', 'education', 'income', 'diabetes'])\n",
        "\n",
        "y = df['diabetes']"
      ]
    },
    {
      "cell_type": "code",
      "execution_count": null,
      "metadata": {
        "colab": {
          "background_save": true
        },
        "id": "Lu8_phUsNZon"
      },
      "outputs": [],
      "source": [
        "X.head()"
      ]
    },
    {
      "cell_type": "code",
      "execution_count": null,
      "metadata": {
        "colab": {
          "background_save": true
        },
        "id": "KsqHFAglNagg"
      },
      "outputs": [],
      "source": [
        "y.head()"
      ]
    },
    {
      "cell_type": "code",
      "execution_count": null,
      "metadata": {
        "colab": {
          "background_save": true
        },
        "id": "ZktrB_23NcyH"
      },
      "outputs": [],
      "source": [
        "class_names = ['no diabetes', 'yes diabetes']"
      ]
    },
    {
      "cell_type": "code",
      "execution_count": null,
      "metadata": {
        "colab": {
          "background_save": true
        },
        "id": "vLaohYWxNiIz"
      },
      "outputs": [],
      "source": [
        "X_train, X_test, y_train, y_test = train_test_split(X, y, test_size=.2, random_state = 1)"
      ]
    },
    {
      "cell_type": "code",
      "execution_count": null,
      "metadata": {
        "colab": {
          "background_save": true
        },
        "id": "REXT7Uy3NmOn"
      },
      "outputs": [],
      "source": [
        "print(X_train.shape, X_test.shape)"
      ]
    },
    {
      "cell_type": "code",
      "execution_count": null,
      "metadata": {
        "colab": {
          "background_save": true
        },
        "id": "6XpBbH2BNo6q"
      },
      "outputs": [],
      "source": [
        "X_train.agg(['mean','std']).round(2).T"
      ]
    },
    {
      "cell_type": "code",
      "execution_count": null,
      "metadata": {
        "colab": {
          "background_save": true
        },
        "id": "aWM5YkXGNrFY"
      },
      "outputs": [],
      "source": [
        "X_test.agg(['mean','std']).round(2).T"
      ]
    },
    {
      "cell_type": "code",
      "execution_count": null,
      "metadata": {
        "colab": {
          "background_save": true
        },
        "id": "8Bp88A0zNuTJ"
      },
      "outputs": [],
      "source": [
        "plt.subplots(1,2, figsize=(10,4))\n",
        "\n",
        "plt.subplot(1,2,1)\n",
        "plt.plot(X_train.mean(), X_test.mean(), 'o')\n",
        "plt.plot([0, 30], [0, 30])\n",
        "\n",
        "plt.xlabel('Training set mean')\n",
        "plt.ylabel('Test set mean')\n",
        "plt.axis('square')\n",
        "\n",
        "plt.subplot(1,2,2)\n",
        "plt.plot(X_train.std(), X_test.std(), 'o')\n",
        "plt.plot([0, 10], [0, 10])\n",
        "\n",
        "plt.xlabel('Training set std')\n",
        "plt.ylabel('Test set std')\n",
        "plt.axis('square');"
      ]
    },
    {
      "cell_type": "code",
      "execution_count": null,
      "metadata": {
        "colab": {
          "background_save": true
        },
        "id": "3SzZGCvJNxur"
      },
      "outputs": [],
      "source": [
        "df['diabetes'].value_counts()"
      ]
    },
    {
      "cell_type": "code",
      "execution_count": null,
      "metadata": {
        "colab": {
          "background_save": true
        },
        "id": "7wqK2cxlNz8N"
      },
      "outputs": [],
      "source": [
        "y_train.value_counts(normalize=True)"
      ]
    },
    {
      "cell_type": "code",
      "execution_count": null,
      "metadata": {
        "colab": {
          "background_save": true
        },
        "id": "joSdw77EN17M"
      },
      "outputs": [],
      "source": [
        "y_test.value_counts(normalize=True)"
      ]
    },
    {
      "cell_type": "code",
      "execution_count": null,
      "metadata": {
        "colab": {
          "background_save": true
        },
        "id": "g0YfS36gN6-A"
      },
      "outputs": [],
      "source": [
        "numerical_columns = X_train.select_dtypes(include='number').columns.to_list()"
      ]
    },
    {
      "cell_type": "code",
      "execution_count": null,
      "metadata": {
        "colab": {
          "background_save": true
        },
        "id": "P4c4UOF_N93n"
      },
      "outputs": [],
      "source": [
        "scaler = StandardScaler().fit(X_train[numerical_columns])"
      ]
    },
    {
      "cell_type": "code",
      "execution_count": null,
      "metadata": {
        "colab": {
          "background_save": true
        },
        "id": "RTSmm2h9OAp6"
      },
      "outputs": [],
      "source": [
        "X_train[numerical_columns] = scaler.transform(X_train[numerical_columns])\n",
        "X_test[numerical_columns] = scaler.transform(X_test[numerical_columns])"
      ]
    },
    {
      "cell_type": "code",
      "execution_count": null,
      "metadata": {
        "colab": {
          "background_save": true
        },
        "id": "IeFvW5kQOGZD"
      },
      "outputs": [],
      "source": [
        "print(np.mean(X_train[numerical_columns], axis = 0).round(2))\n",
        "print(np.std(X_train[numerical_columns], axis = 0))\n",
        "\n",
        "print(np.mean(X_test[numerical_columns], axis = 0).round(2))\n",
        "print(np.std(X_test[numerical_columns], axis = 0).round(2))"
      ]
    },
    {
      "cell_type": "code",
      "execution_count": null,
      "metadata": {
        "colab": {
          "background_save": true
        },
        "id": "-wduvy34PbBp"
      },
      "outputs": [],
      "source": [
        "corr_matrix = X_train.corr()\n",
        "\n",
        "plt.figure(figsize=(15,8))\n",
        "\n",
        "sns.heatmap(corr_matrix, vmax=1, vmin=-1, square=True, cmap='viridis')\n",
        "\n",
        "plt.tick_params(labelsize=10);"
      ]
    },
    {
      "cell_type": "code",
      "execution_count": null,
      "metadata": {
        "colab": {
          "background_save": true
        },
        "id": "dRqEuIojPq2o"
      },
      "outputs": [],
      "source": [
        "#sns.pairplot(data = df.iloc[:,np.r_[np.arange(6), 21]], hue='diabetes');"
      ]
    },
    {
      "cell_type": "code",
      "execution_count": null,
      "metadata": {
        "colab": {
          "background_save": true
        },
        "id": "fb_E4XDGP0pL"
      },
      "outputs": [],
      "source": [
        "plt.figure(figsize=(8,10))\n",
        "sns.boxplot(data=X_train, orient='h');"
      ]
    },
    {
      "cell_type": "markdown",
      "metadata": {
        "id": "QZtY3dkpQHsI"
      },
      "source": [
        "\n",
        "MODELING\n"
      ]
    },
    {
      "cell_type": "markdown",
      "metadata": {
        "id": "sC-OXbDQKus8"
      },
      "source": [
        "# Linear regression"
      ]
    },
    {
      "cell_type": "code",
      "execution_count": null,
      "metadata": {
        "colab": {
          "background_save": true
        },
        "id": "eMyqxpYCK4h9"
      },
      "outputs": [],
      "source": [
        "#imputation"
      ]
    },
    {
      "cell_type": "code",
      "execution_count": null,
      "metadata": {
        "colab": {
          "background_save": true
        },
        "id": "j7IQIiFwMYt_"
      },
      "outputs": [],
      "source": [
        "X_train.head()"
      ]
    },
    {
      "cell_type": "code",
      "execution_count": null,
      "metadata": {
        "colab": {
          "background_save": true
        },
        "id": "CO9b1Q-naRGy"
      },
      "outputs": [],
      "source": [
        "df_train = X_train.join(y_train)"
      ]
    },
    {
      "cell_type": "code",
      "execution_count": null,
      "metadata": {
        "colab": {
          "background_save": true
        },
        "id": "CzAdCbQkcu0S"
      },
      "outputs": [],
      "source": [
        "df_train.head()"
      ]
    },
    {
      "cell_type": "code",
      "execution_count": null,
      "metadata": {
        "colab": {
          "background_save": true
        },
        "id": "HCZRRbJgc0nY"
      },
      "outputs": [],
      "source": [
        "df_test = X_test.join(y_test)"
      ]
    },
    {
      "cell_type": "code",
      "execution_count": null,
      "metadata": {
        "colab": {
          "background_save": true
        },
        "id": "D8FkPeUTdD8S"
      },
      "outputs": [],
      "source": [
        "df_test.head()"
      ]
    },
    {
      "cell_type": "code",
      "execution_count": null,
      "metadata": {
        "colab": {
          "background_save": true
        },
        "id": "0FRV85q8dahf"
      },
      "outputs": [],
      "source": [
        "sns.pairplot(data=df_train,\n",
        "             vars=['high_bp',\t'high_chol',\t'bmi',\t'smoker',\t'no_docbc_cost',\t'gen_hlth',\t'any_healthcare',\t'ment_hlth',\t'phys_hlth',\t'diff_walk',\t'sex',\t'age',\t'diabetes'],\n",
        "\n",
        "             kind='reg');"
      ]
    },
    {
      "cell_type": "code",
      "execution_count": null,
      "metadata": {
        "colab": {
          "background_save": true
        },
        "id": "HWrAMt-aejBa"
      },
      "outputs": [],
      "source": [
        "plt.figure(figsize=(12,4))\n",
        "sns.boxplot(data=df_train[['high_bp',\t'high_chol',\t'bmi',\t'smoker',\t'no_docbc_cost',\t'gen_hlth',\t'any_healthcare',\t'ment_hlth',\t'phys_hlth',\t'diff_walk',\t'sex',\t'age',\t'diabetes']]);"
      ]
    },
    {
      "cell_type": "code",
      "execution_count": null,
      "metadata": {
        "colab": {
          "background_save": true
        },
        "id": "07HdJXaEfEnb"
      },
      "outputs": [],
      "source": [
        "def design_matrices(formula, df_train, df_test):\n",
        "\n",
        "    _, X_design_train = dmatrices(formula,\n",
        "                                  data=df_train,\n",
        "                                  return_type='dataframe')\n",
        "\n",
        "    _, X_design_test = dmatrices(formula,\n",
        "                                 data=df_test,\n",
        "                                 return_type='dataframe')\n",
        "\n",
        "    return X_design_train, X_design_test"
      ]
    },
    {
      "cell_type": "code",
      "execution_count": null,
      "metadata": {
        "colab": {
          "background_save": true
        },
        "id": "DcssKFIgfPlC"
      },
      "outputs": [],
      "source": [
        "X_design_train, X_design_test = design_matrices('diabetes ~(high_bp + high_chol + bmi + smoker + no_docbc_cost + gen_hlth + any_healthcare + ment_hlth + phys_hlth + diff_walk + sex + age)', df_train, df_test)"
      ]
    },
    {
      "cell_type": "code",
      "execution_count": null,
      "metadata": {
        "colab": {
          "background_save": true
        },
        "id": "zjYE4bvkjhaQ"
      },
      "outputs": [],
      "source": [
        "X_design_train.head()"
      ]
    },
    {
      "cell_type": "code",
      "execution_count": null,
      "metadata": {
        "colab": {
          "background_save": true
        },
        "id": "WRrg6kVNj4EI"
      },
      "outputs": [],
      "source": [
        "model = sm.OLS(y_train, X_design_train).fit()"
      ]
    },
    {
      "cell_type": "code",
      "execution_count": null,
      "metadata": {
        "colab": {
          "background_save": true
        },
        "id": "6KdfqhIIkGaZ"
      },
      "outputs": [],
      "source": [
        "print(model.summary())"
      ]
    },
    {
      "cell_type": "code",
      "execution_count": null,
      "metadata": {
        "colab": {
          "background_save": true
        },
        "id": "U8wIkaOjkfMw"
      },
      "outputs": [],
      "source": [
        "y_hat = model.predict(X_design_train)"
      ]
    },
    {
      "cell_type": "code",
      "execution_count": null,
      "metadata": {
        "colab": {
          "background_save": true
        },
        "id": "-nKOCV8Gkm8J"
      },
      "outputs": [],
      "source": [
        "plt.plot(y_train, y_hat, 'o')\n",
        "\n",
        "plt.xlabel('Test diabetes', fontsize = 12)\n",
        "plt.ylabel('Predicted test diabetes', fontsize = 12)\n",
        "\n",
        "plt.tick_params(labelsize = 15)"
      ]
    },
    {
      "cell_type": "code",
      "execution_count": null,
      "metadata": {
        "colab": {
          "background_save": true
        },
        "id": "ygPz6EISn6Mg"
      },
      "outputs": [],
      "source": [
        "y_predict_lr = model.predict(X_design_test)"
      ]
    },
    {
      "cell_type": "code",
      "execution_count": null,
      "metadata": {
        "colab": {
          "background_save": true
        },
        "id": "gLDs-VkroNrb"
      },
      "outputs": [],
      "source": [
        "plt.figure(figsize = (8,6))\n",
        "\n",
        "plt.plot(y_test, y_predict_lr, 'o');\n",
        "\n",
        "plt.xlabel('Test diabetes', fontsize = 15)\n",
        "plt.ylabel('Predicted test set diabetes', fontsize = 15)\n",
        "\n",
        "plt.tick_params(labelsize = 15)"
      ]
    },
    {
      "cell_type": "code",
      "execution_count": null,
      "metadata": {
        "colab": {
          "background_save": true
        },
        "id": "KGRPcs6Uojls"
      },
      "outputs": [],
      "source": [
        "mean_squared_error(y_test, y_predict_lr, squared = False).round(3)"
      ]
    },
    {
      "cell_type": "code",
      "execution_count": null,
      "metadata": {
        "colab": {
          "background_save": true
        },
        "id": "tiFgYCDaoy2k"
      },
      "outputs": [],
      "source": [
        "mean_absolute_error(y_test, y_predict_lr).round(3)"
      ]
    },
    {
      "cell_type": "code",
      "execution_count": null,
      "metadata": {
        "colab": {
          "background_save": true
        },
        "id": "6tDVTU8yQNw1"
      },
      "outputs": [],
      "source": [
        "def design_matrices(formula, df_train, df_test):\n",
        "\n",
        "    _, X_design_train = dmatrices(formula,\n",
        "                                  data=df_train,\n",
        "                                  return_type='dataframe')\n",
        "\n",
        "    _, X_design_test = dmatrices(formula,\n",
        "                                 data=df_test,\n",
        "                                 return_type='dataframe')\n",
        "\n",
        "    return X_design_train, X_design_test"
      ]
    },
    {
      "cell_type": "code",
      "execution_count": null,
      "metadata": {
        "colab": {
          "base_uri": "https://localhost:8080/"
        },
        "id": "xY_QrGxFQzBh",
        "outputId": "f179cdc1-c60f-41bb-ee88-b3b83f196700"
      },
      "outputs": [
        {
          "name": "stdout",
          "output_type": "stream",
          "text": [
            "Fitting 5 folds for each of 50 candidates, totalling 250 fits\n"
          ]
        }
      ],
      "source": [
        "rf_model = RandomForestRegressor()\n",
        "\n",
        "params = {\n",
        "    \"max_depth\": randint(2, 18),\n",
        "    \"n_estimators\": randint(80, 150),\n",
        "    \"min_samples_leaf\": randint(1, 8)\n",
        "}\n",
        "\n",
        "search = RandomizedSearchCV(rf_model,\n",
        "                            param_distributions=params,\n",
        "                            n_iter=50, # Ideally, this would be larger, but it takes a long time\n",
        "                            cv=5,\n",
        "                            verbose=1,\n",
        "                            n_jobs=1,\n",
        "                            return_train_score=True,\n",
        "                            scoring = 'neg_mean_squared_error')\n",
        "\n",
        "#search.fit(X_design_train.drop(columns='Intercept'), y_train)\n",
        "\n",
        "search.fit(X_train, y_train)"
      ]
    },
    {
      "cell_type": "code",
      "execution_count": null,
      "metadata": {
        "id": "jWkxSMziQ2Mq"
      },
      "outputs": [],
      "source": [
        "search.best_params_"
      ]
    },
    {
      "cell_type": "code",
      "execution_count": null,
      "metadata": {
        "id": "6IZ1DdPrQ4dc"
      },
      "outputs": [],
      "source": [
        "model_rf = RandomForestRegressor(**search.best_params_)"
      ]
    },
    {
      "cell_type": "code",
      "execution_count": null,
      "metadata": {
        "id": "Irn2DkeHQ6xj"
      },
      "outputs": [],
      "source": [
        "model_rf.fit(X_train.drop(columns='diabetes'), y_train)"
      ]
    },
    {
      "cell_type": "code",
      "execution_count": null,
      "metadata": {
        "id": "JVEie9lzZrnu"
      },
      "outputs": [],
      "source": [
        "y_predict_rf = model_rf.predict(X_test.drop(columns='diabetes'))"
      ]
    },
    {
      "cell_type": "code",
      "execution_count": null,
      "metadata": {
        "id": "bhj_s_lMZzST"
      },
      "outputs": [],
      "source": [
        "plt.figure(figsize = (8,6))\n",
        "\n",
        "plt.plot(y_test, y_predict_rf, 'o');\n",
        "\n",
        "plt.xlabel(fontsize = 15)\n",
        "plt.ylabel(fontsize = 15)\n",
        "\n",
        "plt.tick_params(labelsize = 15)"
      ]
    },
    {
      "cell_type": "code",
      "execution_count": null,
      "metadata": {
        "id": "z0i0dYXsa6jf"
      },
      "outputs": [],
      "source": [
        "mean_squared_error(y_test, y_predict_rf, squared = False).round(3)"
      ]
    },
    {
      "cell_type": "code",
      "execution_count": null,
      "metadata": {
        "id": "YBx5tdQIa-QK"
      },
      "outputs": [],
      "source": [
        "mean_absolute_error(y_test, y_predict_rf).round(3)"
      ]
    },
    {
      "cell_type": "code",
      "execution_count": null,
      "metadata": {
        "id": "8ukYQih4bDdk"
      },
      "outputs": [],
      "source": [
        "(pd.DataFrame(dict(cols=X_train.drop(columns='diabetes').columns, imp=model_rf.feature_importances_)).\n",
        " sort_values(by = 'imp').\n",
        " plot('cols', 'imp', 'barh', legend = False, figsize = (4,5)))\n",
        "\n",
        "plt.ylabel('')\n",
        "plt.xlabel('Variable importance', fontsize = 15)\n",
        "\n",
        "plt.tick_params(labelsize = 15);"
      ]
    },
    {
      "cell_type": "markdown",
      "metadata": {
        "id": "f3tgztvacF6f"
      },
      "source": [
        "##Quadratic Model"
      ]
    },
    {
      "cell_type": "code",
      "execution_count": null,
      "metadata": {
        "id": "fXsj-Mb0b2oa"
      },
      "outputs": [],
      "source": [
        "X_design_train_2, X_design_test_2 = design_matrices('diabetes ~ (high_bp + high_chol + bmi + smoker + no_docbc_cost + gen_hlth + any_healthcare + ment_hlth + phys_hlth + diff_walk + sex + age + I(high_bp**2) + I(high_chol**2) + I(bmi**2) + I(smoker**2) + I(no_docbc_cost**2) + I(gen_hlth**2) + I(any_healthcare**2) + I(ment_hlth**2) + I(phys_hlth**2) + I(diff_walk**2) + I(sex**2) + I(age**2)',\n",
        "                                                    df_train,\n",
        "                                                    df_test)"
      ]
    },
    {
      "cell_type": "code",
      "execution_count": null,
      "metadata": {
        "id": "OoWzgFqfeEqc"
      },
      "outputs": [],
      "source": [
        "X_design_train_2.head()"
      ]
    },
    {
      "cell_type": "code",
      "execution_count": null,
      "metadata": {
        "id": "Ejo__R0EeJ83"
      },
      "outputs": [],
      "source": [
        "model_2 = sm.OLS(y_train, X_design_train_2).fit()"
      ]
    },
    {
      "cell_type": "code",
      "execution_count": null,
      "metadata": {
        "id": "CqX_cDzBeK-G"
      },
      "outputs": [],
      "source": [
        "print(model_2.summary())"
      ]
    },
    {
      "cell_type": "code",
      "execution_count": null,
      "metadata": {
        "id": "QsFOCrB6eNX7"
      },
      "outputs": [],
      "source": [
        "y_hat_2 = model_2.predict(X_design_train_2)"
      ]
    },
    {
      "cell_type": "code",
      "execution_count": null,
      "metadata": {
        "id": "R_2fm8sMeQjW"
      },
      "outputs": [],
      "source": [
        "plt.plot(y_train, y_hat_2, 'o')\n",
        "\n",
        "plt.xlabel('Training set miles per gallon', fontsize = 12)\n",
        "plt.ylabel('Predicted training set miles per gallon', fontsize = 12)\n",
        "\n",
        "plt.tick_params(labelsize = 15);"
      ]
    },
    {
      "cell_type": "code",
      "execution_count": null,
      "metadata": {
        "id": "lUdIf8KFeYkX"
      },
      "outputs": [],
      "source": [
        "y_predict_lr_2 = model_2.predict(X_design_test_2)"
      ]
    },
    {
      "cell_type": "code",
      "execution_count": null,
      "metadata": {
        "id": "JvYLz-2yebMY"
      },
      "outputs": [],
      "source": [
        "plt.figure(figsize = (8,6))\n",
        "\n",
        "plt.plot(y_test, y_predict_lr_2, 'o');\n",
        "\n",
        "plt.xlabel('Test set miles per gallon', fontsize = 15)\n",
        "plt.ylabel('Predicted test set miles per gallon', fontsize = 15)\n",
        "\n",
        "plt.tick_params(labelsize = 15)"
      ]
    },
    {
      "cell_type": "code",
      "execution_count": null,
      "metadata": {
        "id": "Z2vSY_LTeeCP"
      },
      "outputs": [],
      "source": [
        "mean_squared_error(y_test, y_predict_lr_2, squared = False).round(3)"
      ]
    },
    {
      "cell_type": "code",
      "execution_count": null,
      "metadata": {
        "id": "pAdOamngee83"
      },
      "outputs": [],
      "source": [
        "mean_absolute_error(y_test, y_predict_lr_2).round(3)"
      ]
    },
    {
      "cell_type": "markdown",
      "metadata": {
        "id": "DjmOHl8PgB4p"
      },
      "source": [
        "XG BOOST"
      ]
    },
    {
      "cell_type": "code",
      "execution_count": null,
      "metadata": {
        "id": "Vf0-VjAEgVIy"
      },
      "outputs": [],
      "source": [
        "sns.lmplot(data = df_train, x = 'high_bp', y = 'diabetes',\n",
        "           y_jitter = 0.05, logistic = True, truncate = False, ci = None, height = 6)\n",
        "\n",
        "plt.xlabel('high bp', fontsize = 14)\n",
        "plt.ylabel('diabetes', fontsize = 14);"
      ]
    },
    {
      "cell_type": "code",
      "execution_count": null,
      "metadata": {
        "id": "XKxuyJ04tpZb"
      },
      "outputs": [],
      "source": [
        "x = np.linspace(-5, 5, 100)\n",
        "\n",
        "b0 = 0\n",
        "b1 = 0.4\n",
        "\n",
        "y = expit(b0 + b1 * x)\n",
        "\n",
        "plt.plot(x, y)\n",
        "\n",
        "plt.xlabel('X', fontsize = 14)\n",
        "plt.ylabel('Logistic function', fontsize = 14);"
      ]
    },
    {
      "cell_type": "code",
      "execution_count": null,
      "metadata": {
        "id": "38L0AEnjtxZk"
      },
      "outputs": [],
      "source": [
        "print(y_train.unique())"
      ]
    },
    {
      "cell_type": "code",
      "execution_count": null,
      "metadata": {
        "id": "xwvsV5g_t3Ql"
      },
      "outputs": [],
      "source": [
        "y_train_binary = (y_train > 0).astype(int)"
      ]
    },
    {
      "cell_type": "code",
      "execution_count": null,
      "metadata": {
        "id": "2b2UxGh7t6sT"
      },
      "outputs": [],
      "source": [
        "# Fit the logistic regression model using mean_radius as the predictor, using the training data.\n",
        "log_reg1 = sm.Logit(y_train_binary, sm.add_constant(X_train['high_bp'])).fit()"
      ]
    },
    {
      "cell_type": "code",
      "execution_count": null,
      "metadata": {
        "id": "H2Y2igF_t_Xm"
      },
      "outputs": [],
      "source": [
        "print(log_reg1.summary())"
      ]
    },
    {
      "cell_type": "code",
      "execution_count": null,
      "metadata": {
        "id": "rJJzC4P3uERT"
      },
      "outputs": [],
      "source": [
        "X_train.columns"
      ]
    },
    {
      "cell_type": "code",
      "execution_count": null,
      "metadata": {
        "id": "t8Osl5N1uLMW"
      },
      "outputs": [],
      "source": [
        "log_reg1 = sm.Logit(y_train_binary, sm.add_constant(X_train)).fit()"
      ]
    },
    {
      "cell_type": "code",
      "execution_count": null,
      "metadata": {
        "id": "nVYJac5guUP1"
      },
      "outputs": [],
      "source": [
        "print(log_reg1.summary())"
      ]
    },
    {
      "cell_type": "markdown",
      "metadata": {
        "id": "Wr10wmXJugvu"
      },
      "source": [
        "logistic regression model aims to predict the likelihood of having diabetes based on various predictor variables. It seems several health-related factors (high blood pressure, high cholesterol, BMI) positively contribute to the likelihood, while factors like smoking have a negative impact. Make decisions about the significance of predictors based on p-values."
      ]
    },
    {
      "cell_type": "markdown",
      "metadata": {
        "id": "EuQikpYRuirf"
      },
      "source": [
        "# XG BOOT"
      ]
    },
    {
      "cell_type": "markdown",
      "metadata": {
        "id": "J063Kk5n5s6l"
      },
      "source": [
        "The XGBoost model aims to accurately predict whether an individual has pre-diabetes, no diabetes, or has already been diagnosed with diabetes.\n",
        "The accuracy of the model in making these predictions is a key measure of its effectiveness."
      ]
    },
    {
      "cell_type": "code",
      "execution_count": null,
      "metadata": {
        "id": "-ue3-VoxuYif"
      },
      "outputs": [],
      "source": [
        "# Don't run the cross validation now. It will take a long time.\n",
        "xgb_model = xgb.XGBClassifier()\n",
        "\n",
        "params = {\n",
        "    \"colsample_bytree\": uniform(0.7, 0.3),\n",
        "    \"gamma\": uniform(0, 0.5),\n",
        "    \"learning_rate\": uniform(0.03, 0.3),\n",
        "    \"max_depth\": randint(2, 6),\n",
        "    \"n_estimators\": randint(100, 150),\n",
        "    \"subsample\": uniform(0.6, 0.4)\n",
        "}\n",
        "\n",
        "search = RandomizedSearchCV(xgb_model,\n",
        "                            param_distributions=params,\n",
        "                            n_iter=200,\n",
        "                            cv=5,\n",
        "                            verbose=1,\n",
        "                            n_jobs=1,\n",
        "                            return_train_score=True)\n",
        "\n",
        "search.fit(X_train, y_train)"
      ]
    },
    {
      "cell_type": "code",
      "execution_count": null,
      "metadata": {
        "id": "AA69DEAZuvDO"
      },
      "outputs": [],
      "source": [
        "search.best_params_"
      ]
    },
    {
      "cell_type": "code",
      "execution_count": null,
      "metadata": {
        "id": "jXR8wSc_u7d5"
      },
      "outputs": [],
      "source": [
        "xgb_model = xgb.XGBClassifier()\n",
        "xgb_model.set_params(**search.best_params_)"
      ]
    },
    {
      "cell_type": "code",
      "execution_count": null,
      "metadata": {
        "id": "9T6MX2xGvAjJ"
      },
      "outputs": [],
      "source": [
        "xgb_model.fit(X_train, y_train)"
      ]
    },
    {
      "cell_type": "code",
      "execution_count": null,
      "metadata": {
        "id": "vY3IXL4KvETR"
      },
      "outputs": [],
      "source": [
        "fig, ax = plt.subplots(figsize = (5,10))\n",
        "xgb.plot_importance(xgb_model, ax = ax);"
      ]
    },
    {
      "cell_type": "code",
      "execution_count": null,
      "metadata": {
        "id": "qYsAXiZGE_rv"
      },
      "outputs": [],
      "source": [
        "class_names = ['no_diabetes', 'pre_diabetes', 'yes_diabetes']"
      ]
    },
    {
      "cell_type": "code",
      "execution_count": null,
      "metadata": {
        "id": "0DZYhvY-vH9r"
      },
      "outputs": [],
      "source": [
        "pred_mgb = xgb_model.predict(X_test)"
      ]
    },
    {
      "cell_type": "code",
      "execution_count": null,
      "metadata": {
        "id": "aB1-X1PwvRo5"
      },
      "outputs": [],
      "source": [
        "mat_mgb = confusion_matrix(y_test, pred_mgb)"
      ]
    },
    {
      "cell_type": "code",
      "execution_count": null,
      "metadata": {
        "id": "8ikcC21SvNRE"
      },
      "outputs": [],
      "source": [
        "sns.heatmap(mat_mgb.T, square=True, annot=True, cbar=False, xticklabels=class_names, yticklabels=class_names, fmt='g')\n",
        "plt.xlabel('true label')\n",
        "plt.ylabel('predicted label');"
      ]
    },
    {
      "cell_type": "code",
      "execution_count": null,
      "metadata": {
        "id": "cucudv0GfZHp"
      },
      "outputs": [],
      "source": [
        "print(classification_report(y_test, pred1, target_names=class_names))"
      ]
    },
    {
      "cell_type": "code",
      "execution_count": null,
      "metadata": {
        "id": "cB7YJ8WQD14K"
      },
      "outputs": [],
      "source": [
        "from sklearn.tree import DecisionTreeRegressor\n",
        "from sklearn.linear_model import LogisticRegression\n",
        "from sklearn.preprocessing import PolynomialFeatures\n",
        "from sklearn.linear_model import LinearRegression\n",
        "from sklearn.metrics import mean_squared_error\n",
        "from sklearn.model_selection import train_test_split\n",
        "\n",
        "\n",
        "\n",
        "# Split the data into training and testing sets\n",
        "X_train, X_test, y_train, y_test = train_test_split(X, y, test_size=0.2, random_state=42)\n",
        "\n",
        "# Decision Tree Regression\n",
        "dt_reg = DecisionTreeRegressor(random_state=42)\n",
        "dt_reg.fit(X_train, y_train)\n",
        "dt_reg_pred = dt_reg.predict(X_test)\n",
        "dt_mse = mean_squared_error(y_test, dt_reg_pred)\n",
        "\n",
        "# Logistic Regression (for binary classification)\n",
        "log_reg = LogisticRegression(random_state=42)\n",
        "log_reg.fit(X_train, y_train)\n",
        "log_reg_pred = log_reg.predict(X_test)\n",
        "log_reg_mse = mean_squared_error(y_test, log_reg_pred)\n",
        "\n",
        "# Quadratic Regression\n",
        "poly = PolynomialFeatures(degree=2)\n",
        "X_train_poly = poly.fit_transform(X_train)\n",
        "X_test_poly = poly.transform(X_test)\n"
      ]
    },
    {
      "cell_type": "code",
      "execution_count": null,
      "metadata": {
        "id": "G_W3Wvq1EXCb"
      },
      "outputs": [],
      "source": [
        "# Calculate additional metrics\n",
        "dt_mae = mean_absolute_error(y_test, dt_reg_pred)\n",
        "dt_r2 = r2_score(y_test, dt_reg_pred)\n",
        "\n",
        "\n",
        "log_reg_mae = mean_absolute_error(y_test, log_reg_pred)\n",
        "log_reg_r2 = r2_score(y_test, log_reg_pred)\n",
        "\n",
        "quad_reg_mae = mean_absolute_error(y_test, quad_reg_pred)\n",
        "quad_reg_r2 = r2_score(y_test, quad_reg_pred)\n",
        "\n",
        "# Print the metrics for each model\n",
        "print(\"Decision Tree Metrics:\")\n",
        "print(\"  MSE:\", dt_mse)\n",
        "print(\"  MAE:\", dt_mae)\n",
        "print(\"  R2:\", dt_r2)\n",
        "\n",
        "print(\"\\nLogistic Regression Metrics:\")\n",
        "print(\"  MSE:\", log_reg_mse)\n",
        "print(\"  MAE:\", log_reg_mae)\n",
        "print(\"  R2:\", log_reg_r2)\n",
        "\n",
        "print(\"\\nQuadratic Regression Metrics:\")\n",
        "print(\"  MSE:\", quad_reg_mse)\n",
        "print(\"  MAE:\", quad_reg_mae)\n",
        "print(\"  R2:\", quad_reg_r2)"
      ]
    },
    {
      "cell_type": "code",
      "execution_count": null,
      "metadata": {
        "id": "AtwZdqpsIETZ"
      },
      "outputs": [],
      "source": [
        "from sklearn.metrics import f1_score\n",
        "import matplotlib.pyplot as plt\n",
        "import seaborn as sns\n",
        "\n",
        "\n",
        "models = ['Logistic Regression', 'Decision Tree', 'Quadratic Regression']\n",
        "preds = [log_reg_pred, dt_reg_pred, ]\n",
        "\n",
        "f1_scores = []\n",
        "\n",
        "for i in preds:\n",
        "    f1_scores.append(f1_score(y_test, i, average=\"weighted\"))\n",
        "\n",
        "# Plotting the F1 scores\n",
        "plt.figure(figsize=(8, 5))\n",
        "sns.barplot(x=models, y=f1_scores, palette=\"viridis\")\n",
        "plt.title('F1 Scores Comparison')\n",
        "plt.xlabel('Models')\n",
        "plt.ylabel('F1 Score')\n",
        "plt.show()"
      ]
    },
    {
      "cell_type": "markdown",
      "metadata": {
        "id": "o112ZD9HsNv8"
      },
      "source": []
    },
    {
      "cell_type": "code",
      "execution_count": null,
      "metadata": {
        "id": "YtDP2agNsDBE"
      },
      "outputs": [],
      "source": [
        "X_design_train_2, X_design_test_2 = design_matrices('diabetes ~ (high_bp + high_chol + bmi + smoker + no_docbc_cost + gen_hlth + any_healthcare + ment_hlth + phys_hlth + diff_walk + sex + age + I(high_bp**2) + I(high_chol**2) + I(bmi**2) + I(smoker**2) + I(no_docbc_cost**2) + I(gen_hlth**2) + I(any_healthcare**2) + I(ment_hlth**2) + I(phys_hlth**2) + I(diff_walk**2) + I(sex**2) + I(age**2)',\n",
        "                                                    df_train,\n",
        "                                                    df_test)"
      ]
    },
    {
      "cell_type": "code",
      "execution_count": null,
      "metadata": {
        "id": "-tbv0bXTsQIa"
      },
      "outputs": [],
      "source": []
    }
  ],
  "metadata": {
    "colab": {
      "provenance": [],
      "include_colab_link": true
    },
    "kernelspec": {
      "display_name": "Python 3",
      "name": "python3"
    },
    "language_info": {
      "name": "python"
    }
  },
  "nbformat": 4,
  "nbformat_minor": 0
}